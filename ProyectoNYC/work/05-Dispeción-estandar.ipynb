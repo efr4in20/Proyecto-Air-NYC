{
 "cells": [
  {
   "cell_type": "markdown",
   "metadata": {},
   "source": [
    "# Desviación estándar\n"
   ]
  },
  {
   "cell_type": "code",
   "execution_count": 2,
   "metadata": {},
   "outputs": [],
   "source": [
    "import pandas as pd"
   ]
  },
  {
   "cell_type": "code",
   "execution_count": 3,
   "metadata": {},
   "outputs": [],
   "source": [
    "df = pd.read_csv('../Datasets/Air_Quality.csv', sep=',')"
   ]
  },
  {
   "cell_type": "code",
   "execution_count": 8,
   "metadata": {},
   "outputs": [
    {
     "name": "stdout",
     "output_type": "stream",
     "text": [
      "La secuencia de índices es la esperada.\n"
     ]
    },
    {
     "data": {
      "text/html": [
       "<div>\n",
       "<style scoped>\n",
       "    .dataframe tbody tr th:only-of-type {\n",
       "        vertical-align: middle;\n",
       "    }\n",
       "\n",
       "    .dataframe tbody tr th {\n",
       "        vertical-align: top;\n",
       "    }\n",
       "\n",
       "    .dataframe thead th {\n",
       "        text-align: right;\n",
       "    }\n",
       "</style>\n",
       "<table border=\"1\" class=\"dataframe\">\n",
       "  <thead>\n",
       "    <tr style=\"text-align: right;\">\n",
       "      <th></th>\n",
       "      <th>ID</th>\n",
       "      <th>ID Indicador</th>\n",
       "      <th>Tipo Contaminante</th>\n",
       "      <th>Medida</th>\n",
       "      <th>Info Medida</th>\n",
       "      <th>Tipo Geografico</th>\n",
       "      <th>ID Geografico</th>\n",
       "      <th>Lugar Geografico</th>\n",
       "      <th>Periodo Tiempo</th>\n",
       "      <th>Fecha Inicio</th>\n",
       "      <th>Valor</th>\n",
       "    </tr>\n",
       "  </thead>\n",
       "  <tbody>\n",
       "    <tr>\n",
       "      <th>0</th>\n",
       "      <td>216498</td>\n",
       "      <td>386</td>\n",
       "      <td>Ozone (O3)</td>\n",
       "      <td>Mean</td>\n",
       "      <td>ppb</td>\n",
       "      <td>CD</td>\n",
       "      <td>313</td>\n",
       "      <td>Coney Island (CD13)</td>\n",
       "      <td>Summer 2013</td>\n",
       "      <td>2013-06-01</td>\n",
       "      <td>34.64</td>\n",
       "    </tr>\n",
       "    <tr>\n",
       "      <th>1</th>\n",
       "      <td>216499</td>\n",
       "      <td>386</td>\n",
       "      <td>Ozone (O3)</td>\n",
       "      <td>Mean</td>\n",
       "      <td>ppb</td>\n",
       "      <td>CD</td>\n",
       "      <td>313</td>\n",
       "      <td>Coney Island (CD13)</td>\n",
       "      <td>Summer 2014</td>\n",
       "      <td>2014-06-01</td>\n",
       "      <td>33.22</td>\n",
       "    </tr>\n",
       "    <tr>\n",
       "      <th>2</th>\n",
       "      <td>219969</td>\n",
       "      <td>386</td>\n",
       "      <td>Ozone (O3)</td>\n",
       "      <td>Mean</td>\n",
       "      <td>ppb</td>\n",
       "      <td>Borough</td>\n",
       "      <td>1</td>\n",
       "      <td>Bronx</td>\n",
       "      <td>Summer 2013</td>\n",
       "      <td>2013-06-01</td>\n",
       "      <td>31.25</td>\n",
       "    </tr>\n",
       "    <tr>\n",
       "      <th>3</th>\n",
       "      <td>219970</td>\n",
       "      <td>386</td>\n",
       "      <td>Ozone (O3)</td>\n",
       "      <td>Mean</td>\n",
       "      <td>ppb</td>\n",
       "      <td>Borough</td>\n",
       "      <td>1</td>\n",
       "      <td>Bronx</td>\n",
       "      <td>Summer 2014</td>\n",
       "      <td>2014-06-01</td>\n",
       "      <td>31.15</td>\n",
       "    </tr>\n",
       "    <tr>\n",
       "      <th>4</th>\n",
       "      <td>164876</td>\n",
       "      <td>383</td>\n",
       "      <td>Sulfur Dioxide (SO2)</td>\n",
       "      <td>Mean</td>\n",
       "      <td>ppb</td>\n",
       "      <td>CD</td>\n",
       "      <td>211</td>\n",
       "      <td>Morris Park and Bronxdale (CD11)</td>\n",
       "      <td>Winter 2008-09</td>\n",
       "      <td>2008-12-01</td>\n",
       "      <td>5.89</td>\n",
       "    </tr>\n",
       "  </tbody>\n",
       "</table>\n",
       "</div>"
      ],
      "text/plain": [
       "      ID   ID Indicador     Tipo Contaminante Medida Info Medida  \\\n",
       "0  216498           386            Ozone (O3)   Mean         ppb   \n",
       "1  216499           386            Ozone (O3)   Mean         ppb   \n",
       "2  219969           386            Ozone (O3)   Mean         ppb   \n",
       "3  219970           386            Ozone (O3)   Mean         ppb   \n",
       "4  164876           383  Sulfur Dioxide (SO2)   Mean         ppb   \n",
       "\n",
       "  Tipo Geografico  ID Geografico                  Lugar Geografico  \\\n",
       "0              CD            313               Coney Island (CD13)   \n",
       "1              CD            313               Coney Island (CD13)   \n",
       "2         Borough              1                             Bronx   \n",
       "3         Borough              1                             Bronx   \n",
       "4              CD            211  Morris Park and Bronxdale (CD11)   \n",
       "\n",
       "   Periodo Tiempo Fecha Inicio  Valor  \n",
       "0     Summer 2013   2013-06-01  34.64  \n",
       "1     Summer 2014   2014-06-01  33.22  \n",
       "2     Summer 2013   2013-06-01  31.25  \n",
       "3     Summer 2014   2014-06-01  31.15  \n",
       "4  Winter 2008-09   2008-12-01   5.89  "
      ]
     },
     "execution_count": 8,
     "metadata": {},
     "output_type": "execute_result"
    }
   ],
   "source": [
    "df_limpiar = df.copy()\n",
    "df_Dropped = df_limpiar.dropna(axis=1, how='all')\n",
    "df_Dropped\n",
    "\n",
    "df_3 = df_Dropped.copy()\n",
    "\n",
    "def revisar_secuencia_index():\n",
    "    indices_actuales = df_3.index\n",
    "    #Crear una secuencia esperada (por ejemplo, una secuencia numérica)\n",
    "    secuencia_esperada = pd.Index(range(indices_actuales.min(), indices_actuales.max() + 1))\n",
    "\n",
    "    # Comparar\n",
    "    if indices_actuales.equals(secuencia_esperada):\n",
    "        print(\"La secuencia de índices es la esperada.\")\n",
    "    else:\n",
    "        print(\"La secuencia de índices ha cambiado.\")\n",
    "revisar_secuencia_index()\n",
    "\n",
    "df_Limpio= df_3.reset_index(drop = True)\n",
    "df_Limpio\n",
    "\n",
    "column_name_mapping = {\n",
    "'Unique ID': 'ID ', \n",
    "'Indicator ID': 'ID Indicador', \n",
    "'Name':'Tipo Contaminante', \n",
    "'Measure': 'Medida', \n",
    "'Measure Info': 'Info Medida',\n",
    "'Geo Type Name': 'Tipo Geografico', \n",
    "'Geo Join ID': 'ID Geografico', \n",
    "'Geo Place Name' :'Lugar Geografico' , \n",
    "'Time Period': 'Periodo Tiempo' ,\n",
    "'Start_Date': 'Fecha Inicio', \n",
    "'Data Value': 'Valor'\n",
    "}\n",
    "\n",
    "df_TablaLimpia = df_Limpio.rename(columns= column_name_mapping)\n",
    "df_TablaLimpia['Fecha Inicio'] = pd.to_datetime(df_TablaLimpia['Fecha Inicio'] )\n",
    "df_TablaLimpia.head(5)\n"
   ]
  },
  {
   "cell_type": "code",
   "execution_count": 5,
   "metadata": {},
   "outputs": [
    {
     "data": {
      "text/plain": [
       "0        34.64\n",
       "1        33.22\n",
       "2        31.25\n",
       "3        31.15\n",
       "4         5.89\n",
       "         ...  \n",
       "16117    28.70\n",
       "16118    29.56\n",
       "16119    29.65\n",
       "16120    29.28\n",
       "16121    28.93\n",
       "Name: Valor, Length: 16122, dtype: float64"
      ]
     },
     "execution_count": 5,
     "metadata": {},
     "output_type": "execute_result"
    }
   ],
   "source": [
    "df_TablaLimpia['Valor']"
   ]
  },
  {
   "cell_type": "code",
   "execution_count": 6,
   "metadata": {},
   "outputs": [
    {
     "data": {
      "text/plain": [
       "19.129162518473574"
      ]
     },
     "execution_count": 6,
     "metadata": {},
     "output_type": "execute_result"
    }
   ],
   "source": [
    "df_TablaLimpia['Valor'].mean()"
   ]
  },
  {
   "cell_type": "code",
   "execution_count": 7,
   "metadata": {},
   "outputs": [
    {
     "data": {
      "text/plain": [
       "21.673789259668315"
      ]
     },
     "execution_count": 7,
     "metadata": {},
     "output_type": "execute_result"
    }
   ],
   "source": [
    "df_TablaLimpia['Valor'].std()"
   ]
  }
 ],
 "metadata": {
  "kernelspec": {
   "display_name": "Python 3",
   "language": "python",
   "name": "python3"
  },
  "language_info": {
   "codemirror_mode": {
    "name": "ipython",
    "version": 3
   },
   "file_extension": ".py",
   "mimetype": "text/x-python",
   "name": "python",
   "nbconvert_exporter": "python",
   "pygments_lexer": "ipython3",
   "version": "3.12.3"
  }
 },
 "nbformat": 4,
 "nbformat_minor": 2
}
